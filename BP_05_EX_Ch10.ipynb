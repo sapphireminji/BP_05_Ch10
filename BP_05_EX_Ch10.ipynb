{
  "nbformat": 4,
  "nbformat_minor": 0,
  "metadata": {
    "colab": {
      "provenance": [],
      "authorship_tag": "ABX9TyPM8eNBCgqMiGsC5Ic8ufVA",
      "include_colab_link": true
    },
    "kernelspec": {
      "name": "python3",
      "display_name": "Python 3"
    },
    "language_info": {
      "name": "python"
    }
  },
  "cells": [
    {
      "cell_type": "markdown",
      "metadata": {
        "id": "view-in-github",
        "colab_type": "text"
      },
      "source": [
        "<a href=\"https://colab.research.google.com/github/sapphireminji/BP_05_Ch10/blob/main/BP_05_EX_Ch10.ipynb\" target=\"_parent\"><img src=\"https://colab.research.google.com/assets/colab-badge.svg\" alt=\"Open In Colab\"/></a>"
      ]
    },
    {
      "cell_type": "markdown",
      "source": [
        "1. 연습문제1"
      ],
      "metadata": {
        "id": "pQ6_ZYjiWDad"
      }
    },
    {
      "cell_type": "code",
      "source": [
        "from thinter import*\n",
        "\n",
        "wisdow = Tk()  #thinter를 실행함\n",
        "l = Label(window, text=\"간단한 GUL 프로그램!\") # 텍스트를 만들어줌\n",
        "I.pack() # 최소 크기로 화면에 표시함\n",
        "\n",
        "b1 = Button(window, text=\"환영합니다.\") # 환영합니다가 적힌 버튼을 만들어줌\n",
        "b2 = Button(window, text=\"종료\") # 종료가 적힌 버튼을 만들어줌\n",
        "b1.pack() # 최소 크기로 화면에 표시함\n",
        "b2.pack() # 최소 크기로 화면에 표시함\n",
        "\n",
        "window.mainloop()"
      ],
      "metadata": {
        "id": "fNToutpZX-Vb"
      },
      "execution_count": null,
      "outputs": []
    },
    {
      "cell_type": "markdown",
      "source": [
        "2. 연습문제2"
      ],
      "metadata": {
        "id": "_t6__vNSXmiE"
      }
    },
    {
      "cell_type": "code",
      "source": [
        "def plus():\n",
        "    global total\n",
        "    total += int(e.get()) #e에 적은 숫자를 얻어서 int형으로 바꿔주고 total에 더해줌\n",
        "    display() #바뀐 결과를 화면에 표시해줌\n",
        "\n",
        "def minus():\n",
        "    global total\n",
        "    total -= int(e.get()) #e에 적은 숫자를 얻어서 int형으로 바꿔주고 total 에 빼줌\n",
        "    display() #바뀐 결과를 화면에 표시해줌\n",
        "\n",
        "def reset():\n",
        "    global total\n",
        "    total = 100\n",
        "    display()\n",
        "\n",
        "def display():\n",
        "    global 12\n",
        "    12.destroy() #12를 삭제함\n",
        "    12 = Label(window,text=total) #12를 새로만듦\n",
        "    12.grid(row=0, column=1)"
      ],
      "metadata": {
        "id": "rTFUn4CjYlJm"
      },
      "execution_count": null,
      "outputs": []
    },
    {
      "cell_type": "markdown",
      "source": [
        "5."
      ],
      "metadata": {
        "id": "bXeEUhVFY_zQ"
      }
    },
    {
      "cell_type": "code",
      "source": [
        "from thinter import *\n",
        "fields = '이름', '직업', '국적'\n",
        "\n",
        "def fetch(entries):\n",
        "   for entry in entries:\n",
        "     field = entry[0]\n",
        "     text = entry[1].get()\n",
        "     print('%s: \"%s\"' % (field, text))\n",
        "\n",
        "def makeform(root, fields):\n",
        "   entries = []\n",
        "   for field in fields:\n",
        "     row = Frame(root)\n",
        "     lab = Label(row, width=15, text=field)\n",
        "     ent = Entry(row)\n",
        "     row.pack(side=TOP, fill=X)\n",
        "     entries.append((field, ent))\n",
        "    return entries\n",
        "\n",
        "root = Tk()\n",
        "ents = makeform(root, fields)\n",
        "root.bind('<Return>', (lambda event, e=ents: fetch(e)))\n",
        "b1 = Button(root, text='보여주기',\n",
        "      command=(lambda e=ents: fetch(e)))\n",
        "b1.pack(side=LEFT, padx=5, pady=5)\n",
        "root,mainloop()\n"
      ],
      "metadata": {
        "id": "5l1viMMSZKvI"
      },
      "execution_count": null,
      "outputs": []
    },
    {
      "cell_type": "markdown",
      "source": [
        "6."
      ],
      "metadata": {
        "id": "v4I3xWKfankg"
      }
    },
    {
      "cell_type": "code",
      "source": [
        "from thinter import *\n",
        "\n",
        "window = Tk()\n",
        "label1 = Label(window, text=\"로그인 하세요!!!\", font=(\"Helvetica\", 20))\n",
        "label1.pack()\n",
        "label2 = Label(window, text=\"아이디\")\n",
        "label2.pack()\n",
        "entry1 = Entry(window)\n",
        "entry1.pack()\n",
        "label2 = Label(window, text=\"패스워드\")\n",
        "label2.pack()\n",
        "entry = Entry(window)\n",
        "entry2.pack()\n",
        "button1 = Button(window, text=\"로그인\")\n",
        "button1.pack()\n",
        "window.mainloop()"
      ],
      "metadata": {
        "id": "gHznst2Jaoif"
      },
      "execution_count": null,
      "outputs": []
    },
    {
      "cell_type": "markdown",
      "source": [
        "7."
      ],
      "metadata": {
        "id": "hjy5ohxBbeRf"
      }
    },
    {
      "cell_type": "code",
      "source": [
        "from random import *\n",
        "from tkinter import *\n",
        "\n",
        "def user_choice_rock():\n",
        " user_choice = \"rock\"\n",
        " turn(user_choice)\n",
        " user_image.configure(image=rock_image)\n",
        "def user_choice_paper():\n",
        " user_choice = \"paper\"\n",
        " turn(user_choice)\n",
        " user_image.configure(image=paper_image)\n",
        "def user_choice_scissors():\n",
        " user_choice = \"scissors\"\n",
        " turn(user_choice)\n",
        " user_image.configure(image=scissors_image)\n",
        "# 게임부분\n",
        "def turn(user_choice):\n",
        " oppo = ['rock', 'paper', 'scissors']\n",
        " oppo_choice=oppo[randint(0,2)]\n",
        " if(oppo_choice=='rock'):\n",
        " oppo_image.configure(image=rock_image)\n",
        " if(user_choice=='paper'):\n",
        " turn_result.configure(text=\"사용자 승!\", fg=\"green\")\n",
        " compare.configure(text=\">>>>>\")\n",
        " elif(user_choice=='scissors'):\n",
        " turn_result.configure(text=\"컴퓨터 승!\", fg=\"red\")\n",
        " compare.configure(text=\"<<<<<\")\n",
        " else:\n",
        " turn_result.configure(text=\"무승부\", fg=\"gray\")\n",
        " compare.configure(text=\"=====\")\n",
        " \n",
        " elif(oppo_choice=='paper'):\n",
        " oppo_image.configure(image=paper_image)\n",
        " if(user_choice=='scissors'):\n",
        " turn_result.configure(text=\"사용자 승!\", fg=\"green\")\n",
        " compare.configure(text=\">>>>>\")\n",
        " elif(user_choice=='rock'):\n",
        " turn_result.configure(text=\"컴퓨터 승!\", fg=\"red\")\n",
        " compare.configure(text=\"<<<<<\")\n",
        " else:\n",
        " turn_result.configure(text=\"무승부\", fg=\"gray\")\n",
        " compare.configure(text=\"=====\")\n",
        " \n",
        " elif(oppo_choice=='scissors'):\n",
        " oppo_image.configure(image=scissors_image)\n",
        " if(user_choice=='rock'):\n",
        " turn_result.configure(text=\"사용자 승!\", fg=\"green\")\n",
        " compare.configure(text=\">>>>>\")\n",
        " elif(user_choice=='paper'):\n",
        " turn_result.configure(text=\"컴퓨터 승!\", fg=\"red\")\n",
        " compare.configure(text=\"<<<<<\")\n",
        " else:\n",
        " turn_result.configure(text=\"무승부\", fg=\"gray\")\n",
        " compare.configure(text=\"=====\")\n",
        " \n",
        "# 메인 프로그램\n",
        "main_window = Tk()\n",
        "rock_button = Button(main_window, width=20, text=\"바위\", justify=CENTER, \n",
        "command=user_choice_rock, activebackground='black', activeforeground='white')\n",
        "paper_button = Button(main_window, width=20, text=\"보\", justify=CENTER, \n",
        "command=user_choice_paper, activebackground='black', activeforeground='white')\n",
        "scissors_button = Button(main_window, width=20, text=\"가위\", justify=CENTER, \n",
        "command=user_choice_scissors, activebackground='black', activeforeground='white')\n",
        "rock_image = PhotoImage(file=\"d:/rock.gif\")\n",
        "paper_image = PhotoImage(file=\"d:/paper.gif\")\n",
        "scissors_image = PhotoImage(file=\"d:/scissors.gif\")\n",
        "user_image = Label(text=\"사용자\", image=rock_image)\n",
        "user_image.image = rock_image\n",
        "compare = Label(main_window, justify=CENTER, font=(\"Helvetica\", 30))\n",
        "oppo_image = Label(text=\"컴퓨터\",image=paper_image)\n",
        "oppo_image.image = paper_image\n",
        "turn_result = Label(main_window, width=20, justify=CENTER, font=(\"Helvetica\", 20))\n",
        "# 그리드 생성\n",
        "rock_button.grid(row=5, column=1)\n",
        "paper_button.grid(row=5, column=2)\n",
        "scissors_button.grid(row=5, column=3)\n",
        "user_image.grid(row=3, column=1)\n",
        "compare.grid(row=3, column=2)\n",
        "oppo_image.grid(row=3, column=3)\n",
        "turn_result.grid(row=4, column=2)\n",
        "# GUI화면 루프처리\n",
        "main_window.mainloop()"
      ],
      "metadata": {
        "id": "dVt9q6IBblaI"
      },
      "execution_count": null,
      "outputs": []
    }
  ]
}